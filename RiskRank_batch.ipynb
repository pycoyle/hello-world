{
  "nbformat": 4,
  "nbformat_minor": 0,
  "metadata": {
    "colab": {
      "name": "Copy of RiskRank_batch.ipynb",
      "provenance": [],
      "collapsed_sections": [],
      "authorship_tag": "ABX9TyPIoZ1ZDRUBSZeXXZaeYExp",
      "include_colab_link": true
    },
    "kernelspec": {
      "name": "python3",
      "display_name": "Python 3"
    }
  },
  "cells": [
    {
      "cell_type": "markdown",
      "metadata": {
        "id": "view-in-github",
        "colab_type": "text"
      },
      "source": [
        "<a href=\"https://colab.research.google.com/github/pycoyle/hello-world/blob/master/RiskRank_batch.ipynb\" target=\"_parent\"><img src=\"https://colab.research.google.com/assets/colab-badge.svg\" alt=\"Open In Colab\"/></a>"
      ]
    },
    {
      "cell_type": "code",
      "metadata": {
        "id": "Dz67LMiNnu5b",
        "colab_type": "code",
        "colab": {}
      },
      "source": [
        "!pip install -q --upgrade tensorflow==2.1\n",
        "import numpy as np\n",
        "import tensorflow.compat.v2   as tf\n",
        "import tensorflow_probability as tfp\n"
      ],
      "execution_count": 0,
      "outputs": []
    },
    {
      "cell_type": "code",
      "metadata": {
        "id": "V7-TzcqYpGLW",
        "colab_type": "code",
        "colab": {}
      },
      "source": [
        "# Tab Trading System Populations\n",
        "\n",
        "# Choose 32 of 64 but precision. \n",
        "dtype=tf.float64\n",
        "#dtype=tf.float32\n",
        "\n",
        "populationTitle = tf.constant([\"Name\",\"Type\",\"Portfolio\",\"Risk1-Rate\",\n",
        "                            \"Risk1-Size\",\"Risk2_Tot\",\"Risk2_0m\",\"Risk2_3m\",\"Risk2_6m\",\n",
        "                            \"Risk2_1y\",\"Risk2_2y\",\"Risk2_3y\",\"Risk2_4y\",\"Risk2_5y\",\"Risk2_7y\",\n",
        "                            \"Risk2_10y\",\"Risk2_12y\",\"Risk2_15y\",\"Risk2_20y\",\"Risk2_25y\",\n",
        "                            \"Risk2_30y\",\"Risk2_40y\",\"Risk2_40+y\"])\n",
        "\n",
        "# ToDo - load this data from a file. \n",
        "np_population_values = np.array(\n",
        "    [[\"Population1\",\t\"Type1\",\t\"State3\",\t1.5,\t-1000000,\t -470,   \t0,\t0,\t0,\t 0,  0,\t0,\t  -141, -329,\t0,\t0,\t   0,\t0,\t  0,\t  0,\t0,\t0,\t0],\n",
        "     [\"Population2\",\t\"Type2\",\t\"State4\",\t3.4,\t-10000000, -3300,\t  0,\t0,\t0,\t 0,  0, -2310, -990, 0,\t  0,\t0,     0,\t0,\t  0,\t  0,\t0,\t0,\t0],\n",
        "     [\"Population3\",\t\"Type3\",\t\"State6\",\t2.6,\t 5000000,\t  8000,   0,\t0,\t0,\t 0,  0,\t0,\t   0,\t   0,\t  0,\t0,\t   0,\t6400,\t1600,\t0,\t0,\t0,\t0],\n",
        "     [\"Population4\",\t\"Type2\",\t\"State7\",\t0.5,\t-2500000,\t -250,    0,\t0,\t0, -250, 0,\t0,\t   0,\t   0,\t  0,\t0,\t   0,\t0,\t  0,\t  0,\t0,\t0,\t0],\n",
        "     [\"Population5\",\t\"Type3\",\t\"State1\",\t2.1,\t-3000000,\t -3000,\t  0,\t0,\t0, \t 0,  0,\t0,\t   0,\t   0,\t  0,\t-3000, 0,\t0,\t  0,\t  0,\t0,\t0,\t0]])\n",
        "#tf_popLabels=tf.constant(np_populationValues[:,:3])\n",
        "\n",
        "# We will be using Type and State a lot to index into the tensors\n",
        "# We therefore  represent  population, type, state as ints so we can use them\n",
        "# later for slicing. \n",
        "tf_popLabels_int = tf.constant([[1,1,3],\\\n",
        "                                [2,2,4],\n",
        "                                [3,3,6],\n",
        "                                [4,2,7],\n",
        "                                [5,3,1]],dtype=tf.int32)\n",
        "\n",
        "# Take the nueric values from populations into a TF tensor \n",
        "tf_popVals=tf.constant(np_population_values[:,3:], dtype=dtype)\n",
        "\n"
      ],
      "execution_count": 0,
      "outputs": []
    },
    {
      "cell_type": "code",
      "metadata": {
        "id": "seayEbSBpMLE",
        "colab_type": "code",
        "colab": {}
      },
      "source": [
        "# Tab2 Probability Matrix\n",
        "#Transition Probabilities\n",
        "matrix=tf.constant([[[0.6,0.15,0.1,0.08,0.04,0.02,0.0075,0.0025],\n",
        "                     [0.1,0.55,0.13,0.1,0.06,0.0325,0.015,0.0125],\n",
        "                     [0.075,0.1325,0.52,0.12,0.07,0.04,0.025,0.0175],\n",
        "                     [0.05,0.1,0.12,0.5,0.1,0.06,0.04,0.03],\n",
        "                     [0.02,0.05,0.08,0.14,0.48,0.12,0.06,0.05],\n",
        "                     [0.015,0.03,0.05,0.1,0.18,0.45,0.1,0.075],\n",
        "                     [0.01,0.015,0.023,0.077,0.12,0.235,0.4,0.12]],\n",
        "                   [[0.7,0.11,0.09,0.05,0.03,0.012,0.0065,0.0015],\n",
        "                    [0.16,0.6,0.1,0.06,0.04,0.025,0.01,0.005],\n",
        "                    [0.08,0.1,0.57,0.09,0.075,0.045,0.03,0.01],\n",
        "                    [0.05,0.09,0.12,0.54,0.09,0.05,0.04,0.02],\n",
        "                    [0.03,0.06,0.07,0.12,0.5,0.12,0.06,0.04],\n",
        "                    [0.02,0.04,0.05,0.08,0.14,0.47,0.15,0.05],\n",
        "                    [0.01,0.02,0.03,0.07,0.12,0.25,0.42,0.08]],\n",
        "                   [[0.65,0.13,0.095,0.065,0.035,0.016,0.007,0.002],\n",
        "                    [0.13,0.575,0.115,0.08,0.05,0.02875,0.0125,0.00875],\n",
        "                    [0.0775,0.11625,0.545,0.105,0.0725,0.0425,0.0275,0.01375],\n",
        "                    [0.05,0.095,0.12,0.52,0.095,0.055,0.04,0.025],\n",
        "                    [0.025,0.055,0.075,0.13,0.49,0.12,0.06,0.045],\n",
        "                    [0.0175,0.035,0.05,0.09,0.16,0.46,0.125,0.0625],\n",
        "                    [0.01,0.0175,0.0265,0.0735,0.12,0.2425,0.41,0.1]]], dtype=dtype)\n",
        "\n",
        "#Cumuilative Probabilities\n",
        "cum_matrix = tf.math.cumsum(matrix, axis=2)\n"
      ],
      "execution_count": 0,
      "outputs": []
    },
    {
      "cell_type": "code",
      "metadata": {
        "id": "-O1rj3ExrOaT",
        "colab_type": "code",
        "colab": {}
      },
      "source": [
        "\n",
        "#tab3 - Correlation\n",
        "type_corr=tf.constant([[0.6,0.3,0.1],\n",
        "                       [0.3,0.7,0.2],\n",
        "                       [0.1,0.2,0.5]], dtype=dtype)\n",
        "\n"
      ],
      "execution_count": 0,
      "outputs": []
    },
    {
      "cell_type": "code",
      "metadata": {
        "id": "8xei7xg8E84j",
        "colab_type": "code",
        "colab": {
          "base_uri": "https://localhost:8080/",
          "height": 119
        },
        "outputId": "ccd17c13-8e86-44a4-c6d3-60d749bb0d69"
      },
      "source": [
        "# The gathers below are to group the Type->type transition matrix\n",
        "# to a population-population matrix, based on type. \n",
        "# [Q] I don't understand what this represents. \n",
        "\n",
        "# p_type is the type for each population. \n",
        "# This is used to index into the type-type matrix to get the value \n",
        "# and thus build up a population-population matrix\n",
        "p_type= tf_popLabels_int [:,1]-1\n",
        "x= tf.gather(type_corr, p_type)\n",
        "y= tf.gather(x, p_type, axis=1)\n",
        "diag=tf.linalg.tensor_diag(tf.linalg.diag_part(y))\n",
        "I=tf.eye(p_type.numpy().size, dtype=dtype)\n",
        "#print(p_type)\n",
        "matrix = (y+I-diag)\n",
        "print(matrix)\n"
      ],
      "execution_count": 1489,
      "outputs": [
        {
          "output_type": "stream",
          "text": [
            "tf.Tensor(\n",
            "[[1.  0.3 0.1 0.3 0.1]\n",
            " [0.3 1.  0.2 0.7 0.2]\n",
            " [0.1 0.2 1.  0.2 0.5]\n",
            " [0.3 0.7 0.2 1.  0.2]\n",
            " [0.1 0.2 0.5 0.2 1. ]], shape=(5, 5), dtype=float64)\n"
          ],
          "name": "stdout"
        }
      ]
    },
    {
      "cell_type": "code",
      "metadata": {
        "id": "xpyf6DJ709y1",
        "colab_type": "code",
        "colab": {
          "base_uri": "https://localhost:8080/",
          "height": 119
        },
        "outputId": "8972d8f5-a009-496a-f217-2ed7b94240b6"
      },
      "source": [
        "#Tab3 Cholesky Decom\n",
        "chol1 = tf.linalg.cholesky(matrix)\n",
        "chol2 = tf.transpose(chol1)"
      ],
      "execution_count": 1512,
      "outputs": [
        {
          "output_type": "execute_result",
          "data": {
            "text/plain": [
              "<tf.Tensor: shape=(5, 5), dtype=float64, numpy=\n",
              "array([[1.        , 0.3       , 0.1       , 0.3       , 0.1       ],\n",
              "       [0.        , 0.9539392 , 0.17820842, 0.63945375, 0.17820842],\n",
              "       [0.        , 0.        , 0.97889824, 0.05725208, 0.46811991],\n",
              "       [0.        , 0.        , 0.        , 0.70556438, 0.04144642],\n",
              "       [0.        , 0.        , 0.        , 0.        , 0.85871282]])>"
            ]
          },
          "metadata": {
            "tags": []
          },
          "execution_count": 1512
        }
      ]
    },
    {
      "cell_type": "code",
      "metadata": {
        "id": "xiQjIg91rC25",
        "colab_type": "code",
        "colab": {
          "base_uri": "https://localhost:8080/",
          "height": 34
        },
        "outputId": "8ba14291-dd32-45c5-817f-faa47384a138"
      },
      "source": [
        "#tab5 Scenario Shocks\n",
        "shock_term=tf.constant([0,0.25,0.5,1,2,3,4,5,7,10,12,15,20,25,30,40,1024], dtype=dtype)\n",
        "\n",
        "shocks=tf.constant([\n",
        "          [[24,24,24,37,46,54,57,67,70,75,77,80,80,80,81,81,81],\n",
        "          [68,68,68,80,94,105,112,123,127,131,133,136,137,139,140,140,140],\n",
        "          [98,98,98,108,128,143,154,166,170,173,175,179,180,183,186,186,186],\n",
        "          [174,174,174,190,216,236,251,263,263,264,265,268,269,272,274,274,274],\n",
        "          [360,360,360,418,462,486,503,505,501,481,488,497,504,502,500,500,500],\n",
        "          [571,571,571,671,732,760,781,772,763,724,735,751,763,757,750,750,750],\n",
        "          [976,976,976,1165,1263,1299,1330,1301,1283,1206,1227,1258,1282,1266,1250,1250,1250]],\n",
        "\n",
        "          [[3,3,3,7,11,14,18,22,26,32,32,33,38,40,41,41,41],\n",
        "          [18,18,18,23,30,36,42,47,52,58,59,62,67,69,70,70,70],\n",
        "          [49,49,49,56,67,76,83,90,95,100,103,108,112,115,117,117,117],\n",
        "          [78,78,78,90,109,126,138,149,155,161,165,171,176,179,182,182,182],            \n",
        "          [161,161,161,185,222,254,272,294,299,305,310,317,323,324,324,324,324],\n",
        "          [420,420,420,470,567,624,652,673,659,646,649,653,655,653,652,652,652],\n",
        "          [1052,1052,1052,1170,1291,1329,1337,1331,1254,1188,1182,1173,1169,1158,1148,1148,1148]],\n",
        "  \n",
        "          [[7,7,7,10,13,15,17,20,23,26,28,29,31,32,33,33,33],\n",
        "          [32,32,32,38,46,53,60,66,71,77,79,82,88,90,91,91,91],\n",
        "          [40,40,40,50,64,76,85,95,102,109,111,114,117,120,123,123,123],\n",
        "          [104,104,104,124,159,184,203,221,234,247,251,257,262,264,266,266,266],\n",
        "          [231,231,231,260,310,342,363,390,408,424,428,434,439,441,443,443,443],\n",
        "          [378,378,378,414,479,519,542,577,600,621,625,630,636,638,640,640,640],\n",
        "          [683,683,683,744,846,907,937,992,1025,1053,1057,1062,1067,1068,1069,1069,1069]]\n",
        "          ], dtype=dtype)\n",
        "tf.reduce_sum(shocks)"
      ],
      "execution_count": 1491,
      "outputs": [
        {
          "output_type": "execute_result",
          "data": {
            "text/plain": [
              "<tf.Tensor: shape=(), dtype=float64, numpy=128464.0>"
            ]
          },
          "metadata": {
            "tags": []
          },
          "execution_count": 1491
        }
      ]
    },
    {
      "cell_type": "code",
      "metadata": {
        "id": "rFwgOuMI0rMB",
        "colab_type": "code",
        "colab": {}
      },
      "source": [
        "# Pull out all the shocks for all states\n",
        "key=tf_popLabels_int[:,1]-1\n",
        "states=tf.constant(tf.range(shocks[1,:,1].shape[0]))\n",
        "key=tf.expand_dims(key, axis=-1)*tf.ones(7,dtype=tf.int32)\n",
        "states=tf.expand_dims(states, axis=-1)**tf.ones(5, dtype=tf.int32)\n",
        "key = tf.transpose(tf.stack([key,tf.transpose(states)]))\n",
        "a=tf.gather_nd(shocks,key)\n",
        "# Pull out the shocks for the type/state of the population\n",
        "key=tf_popLabels_int[:,1:]-1\n",
        "b=tf.gather_nd(shocks,key)\n",
        "#print(key)\n",
        "#print(shocks.shape)\n",
        "#print(b.shape)\n",
        "\n",
        "#Diff the two\n",
        "pl = a-b\n",
        "#pl"
      ],
      "execution_count": 0,
      "outputs": []
    },
    {
      "cell_type": "code",
      "metadata": {
        "id": "msHH6H7Vfe57",
        "colab_type": "code",
        "colab": {}
      },
      "source": [
        "\n",
        "# Tab4 PL Totals are tken from the positions\n",
        "pl_totals  = tf_popVals[:,2]   \n",
        "#pl_totals"
      ],
      "execution_count": 0,
      "outputs": []
    },
    {
      "cell_type": "code",
      "metadata": {
        "id": "UqPFMxo_ryUA",
        "colab_type": "code",
        "colab": {}
      },
      "source": [
        "#tab 4 P&L scaled \n",
        "scaled_pl = tf.transpose(tf.transpose(pl,perm=[0,2,1])*pl_totals,perm=[0,2,1])\n",
        "#scaled_pl"
      ],
      "execution_count": 0,
      "outputs": []
    },
    {
      "cell_type": "code",
      "metadata": {
        "id": "PTb1nM12c7jS",
        "colab_type": "code",
        "colab": {}
      },
      "source": [
        "#Tab4 Risk 2 Absolute Normalised\n",
        "abs_norm=tf.transpose(tf.transpose(tf.abs(tf_popVals[:,3:]))/tf.abs(pl_totals))\n",
        "#abs_norm"
      ],
      "execution_count": 0,
      "outputs": []
    },
    {
      "cell_type": "code",
      "metadata": {
        "id": "h84BlGTHzXyo",
        "colab_type": "code",
        "colab": {}
      },
      "source": [
        "#Tab4 PL Vector\n",
        "pl_vector = scaled_pl*abs_norm\n",
        "#pl_vector"
      ],
      "execution_count": 0,
      "outputs": []
    },
    {
      "cell_type": "code",
      "metadata": {
        "id": "aIBsBzE82sR8",
        "colab_type": "code",
        "colab": {}
      },
      "source": [
        "#Tab4 Total P&L\n",
        "totalPL = tf.transpose(tf.reduce_sum(pl_vector,2))\n",
        "#totalPL"
      ],
      "execution_count": 0,
      "outputs": []
    },
    {
      "cell_type": "code",
      "metadata": {
        "id": "CvjoLpoiOXBo",
        "colab_type": "code",
        "colab": {}
      },
      "source": [
        "trials  = 1000  #@param \n",
        "batches =     3 #@param\n",
        "seed    =   7   #@param"
      ],
      "execution_count": 0,
      "outputs": []
    },
    {
      "cell_type": "code",
      "metadata": {
        "id": "qPfRekz16-w6",
        "colab_type": "code",
        "colab": {}
      },
      "source": [
        "#Tab6 (Scenario Vector) Scenario Vector\n",
        "tfd = tfp.distributions\n",
        "# We want to run a batch of simulations\n",
        "#correlation=tf.transpose(tf.expand_dims(chol1,axis=-1)*tf.ones(batches, dtype=dtype),[2,0,1])\n",
        "mvn = tfd.MultivariateNormalTriL(\n",
        "    scale_tril=correlation)\n",
        "### Single dim sim\n",
        "#mvn = tfd.MultivariateNormalTriL(\n",
        "#    scale_tril=chol1)\n",
        "\n",
        "correlated_norms_sample = mvn.sample([trials], seed=seed, dtype=dtype)\n",
        "\n",
        "#correlated_norms_sample\n",
        "#correlation\n"
      ],
      "execution_count": 0,
      "outputs": []
    },
    {
      "cell_type": "code",
      "metadata": {
        "id": "d96wJ77yDIUU",
        "colab_type": "code",
        "outputId": "b35aeb0d-79aa-40ec-ae93-b0dee85f09a9",
        "colab": {
          "base_uri": "https://localhost:8080/",
          "height": 306
        }
      },
      "source": [
        "#Tab6 (Scenario Vector)- check the correlations using the TensorFlowProbability distribution\n",
        "mvn.covariance().numpy()"
      ],
      "execution_count": 1500,
      "outputs": [
        {
          "output_type": "execute_result",
          "data": {
            "text/plain": [
              "array([[[1. , 0.3, 0.1, 0.3, 0.1],\n",
              "        [0.3, 1. , 0.2, 0.7, 0.2],\n",
              "        [0.1, 0.2, 1. , 0.2, 0.5],\n",
              "        [0.3, 0.7, 0.2, 1. , 0.2],\n",
              "        [0.1, 0.2, 0.5, 0.2, 1. ]],\n",
              "\n",
              "       [[1. , 0.3, 0.1, 0.3, 0.1],\n",
              "        [0.3, 1. , 0.2, 0.7, 0.2],\n",
              "        [0.1, 0.2, 1. , 0.2, 0.5],\n",
              "        [0.3, 0.7, 0.2, 1. , 0.2],\n",
              "        [0.1, 0.2, 0.5, 0.2, 1. ]],\n",
              "\n",
              "       [[1. , 0.3, 0.1, 0.3, 0.1],\n",
              "        [0.3, 1. , 0.2, 0.7, 0.2],\n",
              "        [0.1, 0.2, 1. , 0.2, 0.5],\n",
              "        [0.3, 0.7, 0.2, 1. , 0.2],\n",
              "        [0.1, 0.2, 0.5, 0.2, 1. ]]])"
            ]
          },
          "metadata": {
            "tags": []
          },
          "execution_count": 1500
        }
      ]
    },
    {
      "cell_type": "code",
      "metadata": {
        "id": "1C-kgRauEsZ9",
        "colab_type": "code",
        "outputId": "5e83c959-7461-4de3-94a6-4a4d158d4819",
        "colab": {
          "base_uri": "https://localhost:8080/",
          "height": 357
        }
      },
      "source": [
        "#Tab6 (Scenario Vector) check the correlations of the sample generated\n",
        "tfp.stats.correlation(\n",
        "    correlated_norms_sample\n",
        ")\n",
        "ss=tfp.stats.correlation(correlated_norms_sample[:,:,:], sample_axis=0, event_axis=1)\n",
        "\n",
        "ss.shape\n",
        "tf.transpose(ss,[2,0,1])"
      ],
      "execution_count": 1501,
      "outputs": [
        {
          "output_type": "execute_result",
          "data": {
            "text/plain": [
              "<tf.Tensor: shape=(5, 3, 3), dtype=float64, numpy=\n",
              "array([[[ 1.        ,  0.00478202, -0.00143199],\n",
              "        [ 0.00478202,  1.        , -0.02358447],\n",
              "        [-0.00143199, -0.02358447,  1.        ]],\n",
              "\n",
              "       [[ 1.        , -0.04421539, -0.00192788],\n",
              "        [-0.04421539,  1.        , -0.01624595],\n",
              "        [-0.00192788, -0.01624595,  1.        ]],\n",
              "\n",
              "       [[ 1.        ,  0.03663954, -0.05667938],\n",
              "        [ 0.03663954,  1.        , -0.00910917],\n",
              "        [-0.05667938, -0.00910917,  1.        ]],\n",
              "\n",
              "       [[ 1.        , -0.01606421, -0.01797112],\n",
              "        [-0.01606421,  1.        , -0.04713368],\n",
              "        [-0.01797112, -0.04713368,  1.        ]],\n",
              "\n",
              "       [[ 1.        ,  0.01372819, -0.05141339],\n",
              "        [ 0.01372819,  1.        ,  0.01426402],\n",
              "        [-0.05141339,  0.01426402,  1.        ]]])>"
            ]
          },
          "metadata": {
            "tags": []
          },
          "execution_count": 1501
        }
      ]
    },
    {
      "cell_type": "code",
      "metadata": {
        "id": "BvuAugAcFwIB",
        "colab_type": "code",
        "colab": {}
      },
      "source": [
        "#Tab6 (Scenario Vector) convert normals to uniform\n",
        "\n",
        "# First attent to convert gausian RV's to uniform via error function to create the CDF\n",
        "#uniform_sample= (1. + tf.math.erf(correlated_norms_sample/1.41421356237))/2.0\n",
        "\n",
        "# The tensorflow probability CDF is more elegent. \n",
        "norm=tfd.Normal(0,tf.constant(1., dtype=dtype))\n",
        "uniform_sample=norm.cdf(correlated_norms_sample )\n"
      ],
      "execution_count": 0,
      "outputs": []
    },
    {
      "cell_type": "code",
      "metadata": {
        "id": "WnGhMSyg9oaG",
        "colab_type": "code",
        "colab": {}
      },
      "source": [
        "#Tab6 (Scenario Vector) Cumulative Probability Vector\n",
        "# Slice the [type,state] for each population. \n",
        "key=tf_popLabels_int[:,1:]-1 \n",
        "# Gather the entries from the cumulative_probability_matrix for the population [type,state]\n",
        "# To generate the table for the population.\n",
        "\n",
        "cum_prob_for_populations = tf.gather_nd(cum_matrix,key)\n",
        "# We are running 'batch' simulations so duplicate this probability table 'batch' times. \n",
        "# The reordering of the axis is to align with future matrix multiplications. \n",
        "cum_prob_for_populations_batch = tf.transpose(tf.expand_dims(cum_prob_for_populations,axis=-1)*tf.ones(batches, dtype=dtype),[2,0,1])\n"
      ],
      "execution_count": 0,
      "outputs": []
    },
    {
      "cell_type": "code",
      "metadata": {
        "id": "GccNZ28unX_c",
        "colab_type": "code",
        "colab": {
          "base_uri": "https://localhost:8080/",
          "height": 34
        },
        "outputId": "ef1b9a91-fc37-4f57-aacf-42a026214532"
      },
      "source": [
        "cum_prob_for_populations_batch.shape"
      ],
      "execution_count": 1504,
      "outputs": [
        {
          "output_type": "execute_result",
          "data": {
            "text/plain": [
              "TensorShape([3, 5, 8])"
            ]
          },
          "metadata": {
            "tags": []
          },
          "execution_count": 1504
        }
      ]
    },
    {
      "cell_type": "code",
      "metadata": {
        "id": "ab78NJOSneMb",
        "colab_type": "code",
        "colab": {
          "base_uri": "https://localhost:8080/",
          "height": 34
        },
        "outputId": "6ce5f957-763c-422d-a1ee-0d378b4b067d"
      },
      "source": [
        "uniform_sample.shape"
      ],
      "execution_count": 1505,
      "outputs": [
        {
          "output_type": "execute_result",
          "data": {
            "text/plain": [
              "TensorShape([1000, 3, 5])"
            ]
          },
          "metadata": {
            "tags": []
          },
          "execution_count": 1505
        }
      ]
    },
    {
      "cell_type": "code",
      "metadata": {
        "id": "Kemha8tt_Oo-",
        "colab_type": "code",
        "colab": {
          "base_uri": "https://localhost:8080/",
          "height": 34
        },
        "outputId": "94eaa145-607a-4597-99e5-5eb4d3d68c2b"
      },
      "source": [
        "#Tab6 (Scenario Vector) Convert uniform normals into a 'state' based on the cumulative probabilities per population. \n",
        "\n",
        "index=tf.searchsorted(cum_prob_for_populations_batch ,tf.transpose(uniform_sample) , side='left', out_type=tf.dtypes.int32, name=None)\n",
        "index.shape"
      ],
      "execution_count": 1506,
      "outputs": [
        {
          "output_type": "execute_result",
          "data": {
            "text/plain": [
              "TensorShape([5, 3, 1000])"
            ]
          },
          "metadata": {
            "tags": []
          },
          "execution_count": 1506
        }
      ]
    },
    {
      "cell_type": "code",
      "metadata": {
        "id": "ptIMDSS-S_lf",
        "colab_type": "code",
        "outputId": "163e9f59-15a0-4481-87ca-4123387a1efe",
        "colab": {
          "base_uri": "https://localhost:8080/",
          "height": 51
        }
      },
      "source": [
        "# (Not in spreadsheet)\n",
        "# Check the distribution of states for the first population in the first batch. \n",
        "x,y,c = tf.unique_with_counts(index[0,0,:], out_idx=tf.dtypes.int32, name=None)\n",
        "print(x)\n",
        "print(c/trials)\n"
      ],
      "execution_count": 1507,
      "outputs": [
        {
          "output_type": "stream",
          "text": [
            "tf.Tensor([2 0 3 4 5 6 1 7], shape=(8,), dtype=int32)\n",
            "tf.Tensor([0.506 0.083 0.123 0.074 0.037 0.026 0.135 0.016], shape=(8,), dtype=float64)\n"
          ],
          "name": "stdout"
        }
      ]
    },
    {
      "cell_type": "code",
      "metadata": {
        "id": "gXOtmc5fil3Q",
        "colab_type": "code",
        "colab": {}
      },
      "source": [
        "# The final tate of the PL table is taken from the population input using the formula\n",
        "# Portfolio_size * (1-Risk1_rate)\n",
        "default_state = tf.multiply(tf_popVals[:,1],(1.0-tf_popVals[:,0]))\n",
        "\n",
        "# The generated PL table does not include the final state ( default?)\n",
        "# Which is is taken from the input populations ( Risk2_Tot)\n",
        "#A dd State8 (default?) to the PL table. \n",
        "# To add the vector to the table, first I exand the dimensions of the vector\n",
        "# so it has the same dimensions as the table. \n",
        "# Then I can concatenate the vector as an extra colum at the end of the table. \n",
        "pl_table = tf.concat([totalPL,tf.expand_dims(default_state,-1)], axis=1)\n",
        "\n",
        "# We are running a batch of 'batch' simulations so expand the table to a 3d tensor\n",
        "# We expand the dimensions again and then multiply by a vector of ones to generate \n",
        "# 'batch' copies of the table. Then Swich round the dimensions to make the following\n",
        "# matrix multiplications easier. \n",
        "pl_table_batch =tf.transpose(tf.expand_dims(pl_table,axis=-1)*tf.ones(batches, dtype=dtype),[0,2,1])\n"
      ],
      "execution_count": 0,
      "outputs": []
    },
    {
      "cell_type": "code",
      "metadata": {
        "id": "ciSfzGpe--ZO",
        "colab_type": "code",
        "colab": {}
      },
      "source": [
        ""
      ],
      "execution_count": 0,
      "outputs": []
    },
    {
      "cell_type": "code",
      "metadata": {
        "id": "rg1v9y106Tta",
        "colab_type": "code",
        "colab": {}
      },
      "source": [
        "\n",
        "# This like took a while to figure out - but it's obvious now - Doh!\n",
        "# We now have the table of PL's for each state for each population(\n",
        "# with three copies, one for each batch: 'pl_table_batch' [5(populations),3(batches),8(states)]\n",
        "# We also have 'index' the uniform normals transormed into 'states' by mapping each number to \n",
        "# the cumulative probability for each state. This has dimensions [5(populations), 3(batches), 1m(scenarios)]\n",
        "# The following line uses the innermost dimension of 'index' - the scenarios to lookup, for eah scenario, \n",
        "# the corresponding PL value from the table of states - matched on population and batch ( the two batch dimensions)\n",
        "\n",
        " \n",
        "pl_output=tf.gather(pl_table_batch,\n",
        "                 index,\n",
        "                 batch_dims=2)\n"
      ],
      "execution_count": 0,
      "outputs": []
    },
    {
      "cell_type": "code",
      "metadata": {
        "id": "XwVCkBfjiWIh",
        "colab_type": "code",
        "colab": {
          "base_uri": "https://localhost:8080/",
          "height": 391
        },
        "outputId": "adf024d0-bb94-45e3-8b19-c4374eb557ea"
      },
      "source": [
        "#Tab 9 (Total Ranking)\n",
        "\n",
        "# Collapse the batch dimension to sum the PL's per batch\n",
        "# [Q - Why sum over batches here? Should this be an average?]\n",
        "# Sum over batches & populations\n",
        "riskValue = tf.reduce_sum(pl_output,[0,1])\n",
        "# sum over populations\n",
        "ranked_risk = tf.sort(riskValue,axis=-1,direction='ASCENDING',name=None)\n",
        "# 99th Percent worst\n",
        "percentile99=int(trials*(100.-99.)/100.-1.0) # count from 0 to 99\n",
        "print(\"index=\",(percentile99))\n",
        "print(\"99th Percentile\",ranked_risk[percentile99].numpy())\n",
        "print(ranked_risk[percentile99-1].numpy())\n",
        "print(ranked_risk[percentile99-2].numpy())\n",
        "print(ranked_risk[percentile99-3].numpy())\n",
        "print(ranked_risk[percentile99-4].numpy())\n",
        "print(ranked_risk[percentile99-5].numpy())\n",
        "print(ranked_risk[percentile99-6].numpy())\n",
        "print(ranked_risk[percentile99-7].numpy())\n",
        "print(ranked_risk[percentile99-8].numpy())\n",
        "print(ranked_risk[percentile99-9].numpy())\n",
        "print(\"center\")\n",
        "print(ranked_risk[percentile99+1].numpy())\n",
        "print(ranked_risk[percentile99+2].numpy())\n",
        "print(ranked_risk[percentile99+3].numpy())\n",
        "print(ranked_risk[percentile99+4].numpy())\n",
        "print(ranked_risk[percentile99+5].numpy())\n",
        "print(ranked_risk[percentile99+6].numpy())\n",
        "print(ranked_risk[percentile99+7].numpy())\n",
        "print(ranked_risk[percentile99+8].numpy())\n",
        "print(ranked_risk[percentile99+9].numpy())\n",
        "ranked_risk.shape"
      ],
      "execution_count": 1510,
      "outputs": [
        {
          "output_type": "stream",
          "text": [
            "index= 9\n",
            "99th Percentile -22538341.0\n",
            "-22550301.0\n",
            "-22795910.0\n",
            "-23686281.0\n",
            "-23971091.0\n",
            "-24223521.0\n",
            "-24274150.0\n",
            "-27934231.0\n",
            "-28960641.0\n",
            "-34208422.0\n",
            "center\n",
            "-22110641.0\n",
            "-21986031.0\n",
            "-21679212.0\n",
            "-21602681.0\n",
            "-21600761.0\n",
            "-21444161.0\n",
            "-21352731.0\n",
            "-21344282.0\n",
            "-21195651.0\n"
          ],
          "name": "stdout"
        },
        {
          "output_type": "execute_result",
          "data": {
            "text/plain": [
              "TensorShape([1000])"
            ]
          },
          "metadata": {
            "tags": []
          },
          "execution_count": 1510
        }
      ]
    },
    {
      "cell_type": "code",
      "metadata": {
        "id": "2FG4xSEER0GV",
        "colab_type": "code",
        "colab": {
          "base_uri": "https://localhost:8080/",
          "height": 293
        },
        "outputId": "fdc87ba4-8b4d-4d8a-8162-f60dabcd6f3f"
      },
      "source": [
        "import matplotlib.pyplot as plt\n",
        "%matplotlib inline\n",
        "plt.plot(ranked_risk,marker='o')"
      ],
      "execution_count": 1511,
      "outputs": [
        {
          "output_type": "execute_result",
          "data": {
            "text/plain": [
              "[<matplotlib.lines.Line2D at 0x7fce6bd5b710>]"
            ]
          },
          "metadata": {
            "tags": []
          },
          "execution_count": 1511
        },
        {
          "output_type": "display_data",
          "data": {
            "image/png": "[encoded data removed]",
            "text/plain": [
              "<Figure size 432x288 with 1 Axes>"
            ]
          },
          "metadata": {
            "tags": [],
            "needs_background": "light"
          }
        }
      ]
    }
  ]
}